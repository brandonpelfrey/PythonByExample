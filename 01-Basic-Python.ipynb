{
 "cells": [
  {
   "cell_type": "code",
   "execution_count": 78,
   "metadata": {},
   "outputs": [
    {
     "name": "stdout",
     "output_type": "stream",
     "text": [
      "2.3\n"
     ]
    }
   ],
   "source": [
    "# Weclome!\n",
    "\n",
    "# Because it's going to be helpful to see results, forget that we can't explain what a function is\n",
    "# yet, and consider the magic of print(). You give it something, and it will display it on the screen.\n",
    "# It also adds a new line to the result so each thing you print would show on its own line.\n",
    "print(2.3)\n"
   ]
  },
  {
   "cell_type": "code",
   "execution_count": 79,
   "metadata": {},
   "outputs": [],
   "source": [
    "# By the way: Everything after a # is a comment."
   ]
  },
  {
   "cell_type": "code",
   "execution_count": 80,
   "metadata": {},
   "outputs": [],
   "source": [
    "# Variables and assignment\n",
    "\n",
    "# You can declare a new variable and assign it in one line. \n",
    "# While every variable will have some type (int, float, string, etc.) you don't have to\n",
    "# declare it in Python. (This is not 100% true anymore. Latest versions of the language\n",
    "# do allow for you to say what the type is, but this is not essential for this tutorial.)\n",
    "x = 3\n",
    "\n",
    "# You can overwrite with a new value -- and it doesn't have to be the same type.\n",
    "x = \"hello\"\n",
    "\n",
    "# You can assign as many variables at once as you want\n",
    "x, y, z = 2, 2.7, \"abc\"\n",
    "\n",
    "# You can set a variable to another variable\n",
    "z = x\n",
    "\n",
    "# And you can combine these two things. The following will take x and y and swap their values\n",
    "x, y = y, x\n",
    "\n",
    "# We'll see it more later, but there are many built-in functions to the language, and \n",
    "# one of them is type() which you can use to determine the type of a variable, e.g. type(x)"
   ]
  },
  {
   "cell_type": "code",
   "execution_count": 81,
   "metadata": {},
   "outputs": [],
   "source": [
    "# Built-in Boolean types\n",
    "\n",
    "# Two Keywords/constants in the language are True and False (captial T and F)\n",
    "t, f = True, False\n",
    "\n",
    "# Basic boolean expressions can be computed using operators or some built-in words\n",
    "\n",
    "# Logical or\n",
    "z = t | f\n",
    "z = t or f\n",
    "\n",
    "# Logical and\n",
    "z = t & f\n",
    "z = t and f\n",
    "\n",
    "# Logical not\n",
    "z = !t\n",
    "z = not t\n",
    "\n",
    "# Can be combined as you'd expect\n",
    "z = (not (t or f)) and t"
   ]
  },
  {
   "cell_type": "code",
   "execution_count": 82,
   "metadata": {},
   "outputs": [],
   "source": [
    "# Built-in Numeric Types and Basic Math\n",
    "\n",
    "# Make an integer\n",
    "x = 122\n",
    "\n",
    "# Make a float\n",
    "y = 1.25\n",
    "\n",
    "# Even though x and 2 are both integers, z will be a float.\n",
    "z = x / 2\n",
    "\n",
    "# If you want to make sure the result of division is a float, use two slashes. This will \n",
    "# take the floor.\n",
    "z = x // 2\n",
    "\n",
    "# This will do the same thing. In general str(...), int(...), float(...), etc. can be \n",
    "# used to cast a variable to another type.\n",
    "z = int(x / 2)\n",
    "\n",
    "# You can do all the usual basic math operations\n",
    "z = (x + y) * y / (1 + x)\n",
    "\n",
    "# Powers are built-in, using \"**\"\n",
    "z = x ** 2\n",
    "\n",
    "# Square root\n",
    "z = y ** 0.5\n",
    "\n",
    "# N-th root\n",
    "n = 5\n",
    "z = y ** (1 / n)\n",
    "\n",
    "# Modulus (remainder after division)\n",
    "z = 5 % 2\n",
    "\n",
    "# \"What about sin/cos/etc ?!\" We'll later look more at imports. There is a built-in \n",
    "# standard library called 'math' which will give us many more tools. Here are some examples though\n",
    "import math\n",
    "\n",
    "# 'math' contains many functions and constants (e.g. e, pi)\n",
    "z = math.sin( 1.25 * math.pi )\n",
    "z = math.e ** math.log( z ** 2 + 1 )"
   ]
  },
  {
   "cell_type": "code",
   "execution_count": 83,
   "metadata": {},
   "outputs": [],
   "source": [
    "# Strings\n",
    "\n",
    "s = 'A string is just anything in quotes!'\n",
    "s = \"It doesn't matter if they're single or double quotes, so long as you're consistent\"\n",
    "s = 'This sentence has \"double quotes\" in it.'\n",
    "s = 'You can also \\'escape\\' quotes with a backslash.'\n",
    "\n",
    "s = \"You can concatenate \" + \"strings with a plus\"\n",
    "u, v = \"hello\", 'goodbye'\n",
    "\n",
    "# X += Y means X will be replaced with (X+Y)\n",
    "s += u\n",
    "\n",
    "length = len('You can use the len() function to get the length of something like a string.')\n",
    "\n",
    "# f-strings\n",
    "# There are several ways to nicely combine strings with other variables. \n",
    "# One of the nicest, introduced in Python 3.6 is the f-string.\n",
    "s = f'This is a normal string. Nothing special yet.'\n",
    "\n",
    "t = 'this'\n",
    "s = f'But now I can include variables directly in the string like {t}'\n",
    "s = f'You can even evaluate expressions in the braces! The length of variable \"t\" is {len(t)}'"
   ]
  },
  {
   "cell_type": "code",
   "execution_count": 84,
   "metadata": {},
   "outputs": [
    {
     "name": "stdout",
     "output_type": "stream",
     "text": [
      "This is iteration 0\n",
      "This is iteration 1\n",
      "This is iteration 2\n",
      "This is iteration 3\n",
      "This is iteration 4\n",
      "\n",
      "Basic multiplication table\n",
      "0 0 0 0 \n",
      "0 1 2 3 \n",
      "0 2 4 6 \n",
      "0 3 6 9 \n",
      "\n",
      "While loop computing the Collatz sequence for n=5\n",
      "3\n",
      "10\n",
      "5\n",
      "16\n",
      "8\n",
      "4\n",
      "2\n",
      "1\n"
     ]
    }
   ],
   "source": [
    "# Loops\n",
    "\n",
    "# First, understand the range() function, which itself is a little complex (more later on generators)\n",
    "# but represents a range of values. There are several overloads depending on how many inputs you give:\n",
    "\n",
    "r = range(10)    # [0, 1, ..., 9]    Assumes zero as start, never includes the end\n",
    "r = range(2,5)   # [2, 3, 4]         Specify start and end, never incldues the end\n",
    "r = range(1,7,2) # [1, 3, 5]         Specify start, end, and skip between each entry, never includes the end\n",
    "\n",
    "# The general pattern is...\n",
    "# for THING in ITERABLE:\n",
    "#   ...\n",
    "\n",
    "for xi in range(5):\n",
    "    print(f'This is iteration {xi}')\n",
    "    \n",
    "# This is also the first time we see how blocks/scopes are done in Python. There are\n",
    "# no braces, just some spaces or tabs to indicate what the body of the loop is. The\n",
    "# actual number of spaces/tabs doesn't matter, but you must be consistent.\n",
    "\n",
    "# Freebie: print(..., end=X) will let you print, but instead of a newline, it will print X.\n",
    "\n",
    "# Nesting for-loops is simple\n",
    "\n",
    "print(\"\\nBasic multiplication table\")\n",
    "for i in range(4):\n",
    "    \n",
    "    for j in range(4):\n",
    "        print(i*j, end=' ') # Print i*j and a space\n",
    "        \n",
    "    print() # Print a new line\n",
    "\n",
    "# while loops let you give a boolean expression to define when to stop looping\n",
    "# Let's go ahead and start using if/else statements as well.\n",
    "\n",
    "print(f\"\\nWhile loop computing the Collatz sequence for n={n}\")\n",
    "n = 3\n",
    "while n != 1:\n",
    "    print(n)\n",
    "    \n",
    "    # If n is even, then divide by two, otherwise, multiply by three and add one\n",
    "    if n % 2 == 0:\n",
    "        n = n // 2\n",
    "    else:\n",
    "        n = 3*n+1\n",
    "        \n",
    "print(n)"
   ]
  },
  {
   "cell_type": "code",
   "execution_count": 85,
   "metadata": {},
   "outputs": [
    {
     "name": "stdout",
     "output_type": "stream",
     "text": [
      "Before append: [1, 2, 3]\n",
      "After append: [1, 2, 3, -2]\n",
      "After sort: [-2, 1, 2, 3]\n",
      "\"1\" is at position 0 inside of A\n",
      "You can test if something is in a list by using \"in\". Is 7 in A? False\n"
     ]
    }
   ],
   "source": [
    "# Lists\n",
    "\n",
    "# Lists are in brackets and can have any number of things, with any mixed types if you want\n",
    "A = [1, -3.2, True]\n",
    "\n",
    "# Lists have associated 'methods' you can use, like sort() and append\n",
    "A = [1, 2, 3]\n",
    "print(f'Before append: {A}')\n",
    "\n",
    "A.append(-2)\n",
    "print(f'After append: {A}')\n",
    "\n",
    "A.sort()\n",
    "print(f'After sort: {A}')\n",
    "\n",
    "print(f'\"1\" is at position {A.index(-2)} inside of A')\n",
    "\n",
    "print(f'You can test if something is in a list by using \"in\". Is 7 in A? {7 in A}')"
   ]
  },
  {
   "cell_type": "code",
   "execution_count": 86,
   "metadata": {},
   "outputs": [
    {
     "name": "stdout",
     "output_type": "stream",
     "text": [
      "Second element of t is 4\n"
     ]
    }
   ],
   "source": [
    "# Tuples\n",
    "# Very similar to lists, but they cannot be appended to. \n",
    "\n",
    "# You don't have to use parenthesese, but it makes them easier to read.\n",
    "t = (1, 2)\n",
    "t = 2, 4, 5\n",
    "\n",
    "print(f'Second element of t is {t[1]}')\n"
   ]
  },
  {
   "cell_type": "code",
   "execution_count": 87,
   "metadata": {},
   "outputs": [
    {
     "name": "stdout",
     "output_type": "stream",
     "text": [
      "{'Brandon': 0, 'John': 0, 'Sarah': 0}\n",
      "Brandon has score 0\n",
      "John has score 0\n",
      "Sarah has score 0\n"
     ]
    }
   ],
   "source": [
    "# Hash Maps (Called Dictionaries, or 'Dicts', in Python)\n",
    "\n",
    "# Maps 'keys' to 'values'. Anything 'hashable' can act as a \n",
    "# key (strings, integers and tuples are typical). Lists cannot be hashed.\n",
    "scores = {\"Brandon\": 3, \"John\": 27}\n",
    "\n",
    "# You can set new things ...\n",
    "scores[\"Somebody Else\"] = 91\n",
    "\n",
    "# And you can delete things\n",
    "del scores['Somebody Else']\n",
    "\n",
    "people = ['Brandon', 'John', 'Sarah']\n",
    "for person in people:\n",
    "    scores[person] = 0\n",
    "print(scores)\n",
    "\n",
    "# You can \"walk\" through a dictionary, seeing the key and value of each entry\n",
    "for key, value in scores.items():\n",
    "    print(f'{key} has score {value}')"
   ]
  },
  {
   "cell_type": "code",
   "execution_count": 88,
   "metadata": {},
   "outputs": [
    {
     "name": "stdout",
     "output_type": "stream",
     "text": [
      "2^1 = 2\n",
      "2^2 = 4\n",
      "2^3 = 8\n",
      "2^4 = 16\n",
      "2^5 = 32\n",
      "2^6 = 64\n",
      "2^7 = 128\n",
      "2^8 = 256\n",
      "2^9 = 512\n"
     ]
    }
   ],
   "source": [
    "# Functions\n",
    "\n",
    "# Define a function using def, and specifying arguments in the parens.\n",
    "# Arguments can have default values, but only towards the end of the function.\n",
    "def my_power(x, power=2):\n",
    "    return x ** power\n",
    "\n",
    "for i in range(1, 10):\n",
    "    print(f'2^{i} = {my_power(2, i)}')\n",
    "    \n",
    "# Arguments with default values can also be named when you're calling the function\n",
    "# in order to make things clearer\n",
    "z = my_power(3, power=7)\n"
   ]
  }
 ],
 "metadata": {
  "kernelspec": {
   "display_name": "Python 3",
   "language": "python",
   "name": "python3"
  },
  "language_info": {
   "codemirror_mode": {
    "name": "ipython",
    "version": 3
   },
   "file_extension": ".py",
   "mimetype": "text/x-python",
   "name": "python",
   "nbconvert_exporter": "python",
   "pygments_lexer": "ipython3",
   "version": "3.7.4"
  }
 },
 "nbformat": 4,
 "nbformat_minor": 4
}
